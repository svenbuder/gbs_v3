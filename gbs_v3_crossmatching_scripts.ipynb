{
 "cells": [
  {
   "cell_type": "markdown",
   "id": "ba087475",
   "metadata": {},
   "source": [
    "# Crossmatching Scripts to enhance GBS version 3 by Soubiran et al. (2023)\n",
    "\n",
    "## Author: Sven Buder (ANU) sven.buder@anu.edu.au\n",
    "\n",
    "Created on 240102"
   ]
  },
  {
   "cell_type": "code",
   "execution_count": 1,
   "id": "a0da0151",
   "metadata": {},
   "outputs": [],
   "source": [
    "# Preamble\n",
    "import numpy as np\n",
    "from astroquery.gaia import Gaia\n",
    "from astropy.table import Table, vstack, join\n",
    "from astropy.io import fits"
   ]
  },
  {
   "cell_type": "code",
   "execution_count": 2,
   "id": "8570d2bd",
   "metadata": {},
   "outputs": [
    {
     "name": "stdout",
     "output_type": "stream",
     "text": [
      "INFO: Login to gaia TAP server [astroquery.gaia.core]\n",
      "Password: ········\n",
      "OK\n",
      "INFO: Login to gaia data server [astroquery.gaia.core]\n",
      "OK\n"
     ]
    }
   ],
   "source": [
    "# Login to Gaia archive: https://gea.esac.esa.int/archive/\n",
    "user = 'sbuder'\n",
    "Gaia.login(user = user)"
   ]
  },
  {
   "cell_type": "markdown",
   "id": "32513dbf",
   "metadata": {},
   "source": [
    "### 2.1) Upload initial file to Gaia archive"
   ]
  },
  {
   "cell_type": "code",
   "execution_count": 14,
   "id": "80631615",
   "metadata": {},
   "outputs": [
    {
     "name": "stdout",
     "output_type": "stream",
     "text": [
      "Sending pytable.\n",
      "500 Error 500:\n",
      "esavo.tap.TAPException: Error while uploading table \"gbs_v3\" : problems with the input (can be due to format, inconsistencies in metadata-data...) [Can not execute the following SQL: \n",
      "CREATE TABLE user_sbuder.gbs_v3 ( \"hip\" character varying(9), \"hip_int\" bigint, \"hd\" character varying(8), \"ra_j2000\" double precision, \"dec_j2000\" double precision, \"tmass_id\" character varying(16), \"theta_ld\" real, \"e_theta_ld\" real, \"ref_theta_ld\" character varying(20), \"teff\" smallint, \"e_teff\" smallint, \"e_teff_percent\" real, \"logg\" real, \"e_logg\" real, \"fe_h\" real,  gbs_v3_oid SERIAL ) TABLESPACE gacs_netapp\n",
      "Because: ERROR: relation \"gbs_v3\" already exists]\n",
      "Could not upload table. Does gbs_v3 already exist maybe?\n",
      "\n",
      "Sending pytable.\n",
      "500 Error 500:\n",
      "esavo.tap.TAPException: Error while uploading table \"gbs_v3_allwise\" : problems with the input (can be due to format, inconsistencies in metadata-data...) [Can not execute the following SQL: \n",
      "CREATE TABLE user_sbuder.gbs_v3_allwise ( \"hip_int\" bigint, \"designation\" character varying(19),  gbs_v3_allwise_oid SERIAL ) TABLESPACE gacs_netapp\n",
      "Because: ERROR: relation \"gbs_v3_allwise\" already exists]\n",
      "Could not upload table. Does gbs_v3_allwise already exist maybe?\n"
     ]
    }
   ],
   "source": [
    "# Upload our original file\n",
    "try:\n",
    "    gbs_v3_original = Table.read('individual_crossmatches/gbs_v3_tmass_id_original.fits')\n",
    "    Gaia.upload_table(upload_resource=gbs_v3_original, table_name='gbs_v3')\n",
    "except:\n",
    "    print('Could not upload table. Does gbs_v3 already exist maybe?\\n')\n",
    "\n",
    "# Upload the allwise identifier match file\n",
    "try:\n",
    "    gbs_v3_allwise = Table.read('individual_crossmatches/gbs_v3_allwise_id.fits')\n",
    "    Gaia.upload_table(upload_resource=gbs_v3_allwise, table_name='gbs_v3_allwise')\n",
    "except:\n",
    "    print('Could not upload table. Does gbs_v3_allwise already exist maybe?')"
   ]
  },
  {
   "cell_type": "markdown",
   "id": "dcea711f",
   "metadata": {},
   "source": [
    "### 2.2) Crossmatch with 2MASS"
   ]
  },
  {
   "cell_type": "code",
   "execution_count": 15,
   "id": "6fd0f352",
   "metadata": {},
   "outputs": [],
   "source": [
    "tmass_query = \"\"\"\n",
    "SELECT\n",
    "my_table.hip_int,\n",
    "tmass.*\n",
    "FROM gaiadr1.tmass_original_valid as tmass\n",
    "INNER JOIN\n",
    "    user_\"\"\"+user+\"\"\".gbs_v3 as my_table\n",
    "    ON my_table.tmass_id = tmass.designation\n",
    "\"\"\"\n",
    "\n",
    "xmatch_tmass = Gaia.launch_job(query = tmass_query)\n",
    "xmatch_tmass_results = xmatch_tmass.get_results()\n",
    "# fix formatting issue for string columns to allow to write to file\n",
    "for key in xmatch_tmass_results.keys():\n",
    "    if xmatch_tmass_results[key].dtype == object:\n",
    "        xmatch_tmass_results[key] = np.array(xmatch_tmass_results[key],dtype=str)\n",
    "# export as fits file\n",
    "xmatch_tmass_results.write('individual_crossmatches/gbs_v3_tmass-result.fits',overwrite=True)"
   ]
  },
  {
   "cell_type": "markdown",
   "id": "6ba609bf",
   "metadata": {},
   "source": [
    "### 2.3) Crossmatch with Gaia DR3"
   ]
  },
  {
   "cell_type": "code",
   "execution_count": 16,
   "id": "849248ef",
   "metadata": {},
   "outputs": [],
   "source": [
    "gaia_query = \"\"\"\n",
    "SELECT\n",
    "my_table.hip_int,\n",
    "my_table.tmass_id,\n",
    "calj.*,\n",
    "gaia.*\n",
    "FROM gaiadr3.gaia_source as gaia\n",
    "LEFT OUTER JOIN\n",
    "    external.gaiaedr3_distance as calj\n",
    "    ON calj.source_id = gaia.source_id\n",
    "LEFT OUTER JOIN\n",
    "    gaiadr3.tmass_psc_xsc_best_neighbour AS tmassxmatch\n",
    "    ON tmassxmatch.source_id = gaia.source_id\n",
    "LEFT OUTER JOIN\n",
    "    gaiadr3.tmass_psc_xsc_join AS tmass_join\n",
    "    ON tmass_join.clean_tmass_psc_xsc_oid = tmassxmatch.clean_tmass_psc_xsc_oid\n",
    "LEFT OUTER JOIN\n",
    "    gaiadr1.tmass_original_valid as tmass\n",
    "    ON tmass.designation = tmass_join.original_psc_source_id\n",
    "INNER JOIN\n",
    "    user_sbuder.gbs_v3 as my_table\n",
    "    ON my_table.tmass_id = tmass.designation\n",
    "\"\"\"\n",
    "\n",
    "xmatch_gaia = Gaia.launch_job(query = gaia_query)\n",
    "xmatch_gaia_results = xmatch_gaia.get_results()\n",
    "# fix formatting issue for string columns to allow to write to file\n",
    "for key in xmatch_gaia_results.keys():\n",
    "    if xmatch_gaia_results[key].dtype == object:\n",
    "        xmatch_gaia_results[key] = np.array(xmatch_gaia_results[key],dtype=str)\n",
    "# export as fits file\n",
    "xmatch_gaia_results.write('individual_crossmatches/gbs_v3_gaiadr3_wo_gamSge-result.fits',overwrite=True)"
   ]
  },
  {
   "cell_type": "code",
   "execution_count": 17,
   "id": "b8a38ee3",
   "metadata": {},
   "outputs": [],
   "source": [
    "gamSge_query = \"\"\"\n",
    "SELECT\n",
    "calj.*,\n",
    "gaia.*\n",
    "FROM gaiadr3.gaia_source as gaia\n",
    "LEFT OUTER JOIN\n",
    "    external.gaiaedr3_distance as calj\n",
    "    ON calj.source_id = gaia.source_id\n",
    "WHERE\n",
    "    gaia.source_id = 1823067317695766784\n",
    "\"\"\"\n",
    "\n",
    "xmatch_gamSge = Gaia.launch_job(query = gamSge_query)\n",
    "xmatch_gamSge_results = xmatch_gamSge.get_results()\n",
    "# fix formatting issue for string columns to allow to write to file\n",
    "for key in xmatch_gamSge_results.keys():\n",
    "    if xmatch_gamSge_results[key].dtype == object:\n",
    "        xmatch_gamSge_results[key] = np.array(xmatch_gamSge_results[key],dtype=str)\n",
    "# export as fits file\n",
    "xmatch_gamSge_results['hip_int'] = np.array(['98337'],dtype=int)\n",
    "xmatch_gamSge_results['tmass_id'] = np.array(['None'],dtype=str)\n",
    "xmatch_gamSge_results.write('individual_crossmatches/gbs_v3_gaiadr3_gamSge-result.fits',overwrite=True)"
   ]
  },
  {
   "cell_type": "code",
   "execution_count": 18,
   "id": "c8869cc8",
   "metadata": {},
   "outputs": [],
   "source": [
    "# Concatenate gaiadr3 matches\n",
    "xmatch_gaia_vstack = vstack([xmatch_gaia_results, xmatch_gamSge_results])\n",
    "xmatch_gaia_vstack.write('individual_crossmatches/gbs_v3_gaiadr3-result.fits',overwrite=True)"
   ]
  },
  {
   "cell_type": "markdown",
   "id": "818d631a",
   "metadata": {},
   "source": [
    "### 2.4) Crossmatch with AllWISE"
   ]
  },
  {
   "cell_type": "code",
   "execution_count": 19,
   "id": "33332c00",
   "metadata": {},
   "outputs": [],
   "source": [
    "allwise_query = \"\"\"\n",
    "SELECT\n",
    "my_table.hip_int,\n",
    "allwise.*\n",
    "FROM gaiadr1.allwise_original_valid as allwise\n",
    "INNER JOIN\n",
    "    user_sbuder.gbs_v3_allwise as my_table\n",
    "    ON my_table.designation = allwise.designation\n",
    "\"\"\"\n",
    "\n",
    "xmatch_allwise = Gaia.launch_job(query = allwise_query)\n",
    "xmatch_allwise_results = xmatch_allwise.get_results()\n",
    "# fix formatting issue for string columns to allow to write to file\n",
    "for key in xmatch_allwise_results.keys():\n",
    "    if xmatch_allwise_results[key].dtype == object:\n",
    "        xmatch_allwise_results[key] = np.array(xmatch_allwise_results[key],dtype=str)\n",
    "# export as fits file\n",
    "xmatch_allwise_results.write('individual_crossmatches/gbs_v3_allwise-result.fits',overwrite=True)"
   ]
  },
  {
   "cell_type": "markdown",
   "id": "021aff3a",
   "metadata": {},
   "source": [
    "### 2.5) Crossmatch with Hipparcos"
   ]
  },
  {
   "cell_type": "code",
   "execution_count": 20,
   "id": "77cf983d",
   "metadata": {},
   "outputs": [],
   "source": [
    "allwise_query = \"\"\"\n",
    "SELECT\n",
    "vanleeuwen.*\n",
    "FROM public.hipparcos_newreduction as vanleeuwen\n",
    "INNER JOIN user_sbuder.gbs_v3 as gbs\n",
    "    ON gbs.hip_int = vanleeuwen.hip\n",
    "\"\"\"\n",
    "xmatch_hipparcos = Gaia.launch_job(query = allwise_query)\n",
    "xmatch_hipparcos_results = xmatch_hipparcos.get_results()\n",
    "xmatch_hipparcos_results.write('individual_crossmatches/gbs_v3_hipparcos-result.fits',overwrite=True)"
   ]
  },
  {
   "cell_type": "markdown",
   "id": "5708201e",
   "metadata": {},
   "source": [
    "# MASTER Table Crossmatch"
   ]
  },
  {
   "cell_type": "code",
   "execution_count": 21,
   "id": "6f5be1a9",
   "metadata": {},
   "outputs": [],
   "source": [
    "reload_tables = False\n",
    "\n",
    "initial_table = Table.read('individual_crossmatches/gbs_v3_tmass_id_original.fits')\n",
    "\n",
    "if reload_tables:\n",
    "    xmatch_hipparcos_results = Table.read('individual_crossmatches/gbs_v3_hipparcos-result.fits')\n",
    "    xmatch_tmass_results = Table.read('individual_crossmatches/gbs_v3_tmass-result.fits')\n",
    "    xmatch_gaia_results = Table.read('individual_crossmatches/gbs_v3_gaiadr3-result.fits')\n",
    "    xmatch_allwise_results = Table.read('individual_crossmatches/gbs_v3_allwise-result.fits')\n",
    "\n",
    "# Read in all individual tables and rename columns to be unique\n",
    "xmatch_hipparcos_results['hip_int'] = xmatch_hipparcos_results['hip']\n",
    "xmatch_hipparcos_results.rename_column('ra','ra_hip')\n",
    "xmatch_hipparcos_results.rename_column('dec','dec_hip')\n",
    "xmatch_hipparcos_results.rename_column('plx','parallax_hip')\n",
    "xmatch_hipparcos_results.rename_column('e_plx','parallax_error_hip')\n",
    "xmatch_tmass_results.rename_column('ph_qual','ph_qual_tmass')\n",
    "xmatch_tmass_results.rename_column('DESIGNATION','designation_tmass')\n",
    "xmatch_gaia_results.rename_column('ra','ra_gaiadr3')\n",
    "xmatch_gaia_results.rename_column('dec','dec_gaiadr3')\n",
    "xmatch_gaia_results.rename_column('ra_error','ra_error_gaiadr3')\n",
    "xmatch_gaia_results.rename_column('dec_error','dec_error_gaiadr3')\n",
    "xmatch_gaia_results.rename_column('DESIGNATION','designation_gaiadr3')\n",
    "xmatch_allwise_results.rename_column('DESIGNATION','designation_allwise')\n",
    "xmatch_allwise_results.rename_column('ra','ra_allwise')\n",
    "xmatch_allwise_results.rename_column('dec','dec_allwise')\n",
    "xmatch_allwise_results.rename_column('ph_qual','ph_qual_allwise')\n",
    "\n",
    "# Add description of origin table to column descriptions\n",
    "for key in xmatch_hipparcos_results.keys():\n",
    "    xmatch_hipparcos_results[key].description = 'HIP '+xmatch_hipparcos_results[key].description\n",
    "for key in xmatch_tmass_results.keys():\n",
    "    if key == 'ph_qual_tmass': xmatch_tmass_results[key].description = '2MASS Photometric quality flag. Three character flag, one character per band [JHKs], that provides a summary of the net quality of the default photometry in each band. The value for ph_qual is set for a band according to the precedence of the table below. For example, a source that is tested and meets the conditions for category “X” is not tested for subsequent qualities. - “X” - There is a detection at this location, but no valid brightness estimate can be extracted using any algorithm. Default magnitude is null. - “U” - Upper limit on magnitude. Source is not detected in this band, or it is detected, but not resolved in a consistent fashion with other bands. A value of ph_qual=“U” does not necessarily mean that there is no flux detected in this band at the location. - “F” - This category includes sources where a reliable estimate of the photometric error could not be determined. The uncertainties reported for these sources in [jhk]_msigcom are flags and have numeric values >8.0. - “E” - This category includes detections where the goodness-of-fit quality of the profile-fit photometry was very poor, or detections where psf fit photometry did not converge and an aperture magnitude is reported, or detections where the number of frames was too small in relation to the number of frames in which a detection was geometrically possible. - “A” - Detections in any brightness regime where valid measurements were made with [jhk]_snr>10 AND [jhk]_cmsig<0.10857. - “B” - Detections in any brightness regime where valid measurements were made with [jhk]_snr>7 AND [jhk]_cmsig<0.15510. - “C” - Detections in any brightness regime where valid measurements were made with [jhk]_snr>5 AND [jhk]_cmsig<0.21714. - “D” - Detections in any brightness regime where valid measurements were made with no [jhk]_snr or [jhk]_cmsig requirement.'\n",
    "    elif key == 'designation_tmass': xmatch_tmass_results[key].description = '2MASS Sexagesimal, equatorial position-based source name in the form: hmmssss+ddmmsss[ABC...] The prefix “2MASS J” in not explicitely listed in the designation.'\n",
    "    elif key == 'tmass_oid': xmatch_tmass_results[key].description = '2MASS Incremental unique numeric identifier (increasing with declination). This is the only field which was not in the original 2MASS catalogue, but was added for cross-match purposes.'\n",
    "    else:\n",
    "        xmatch_tmass_results[key].description = '2MASS '+xmatch_tmass_results[key].description\n",
    "for key in xmatch_gaia_results.keys():\n",
    "    if key == 'tmass_id': xmatch_gaia_results[key].description = 'Gaia DR3 2MASS identifier used for crossmatch'\n",
    "    elif key == 'flag': xmatch_gaia_results[key].description = 'Gaia DR3 Flag for distance estimates from Bailer-Jones et al. (2021)'\n",
    "    elif key == 'designation_gaiadr3': xmatch_gaia_results[key].description = 'Gaia DR3 designation'\n",
    "    elif key == 'phot_variable_flag': xmatch_gaia_results[key].description = 'Gaia DR3 Photometric variability flag'\n",
    "    elif key == 'libname_gspphot': xmatch_gaia_results[key].description = 'Gaia DR3 Name of library that achieves the highest mean log-posterior in MCMC samples and was used to derive GSP-Phot parameters in this table '\n",
    "    else:\n",
    "        xmatch_gaia_results[key].description = 'GaiaDR3 '+xmatch_gaia_results[key].description\n",
    "for key in xmatch_allwise_results.keys():\n",
    "    if key == 'designation_allwise': xmatch_allwise_results[key].description = 'AllWISE designation'\n",
    "    elif key == 'cc_flags': xmatch_allwise_results[key].description = 'AllWISE Contamination and confusion flag. Four character string, one character per band [W1/W2/W3/W4], that indicates that the photometry and/or position measurements of a source may be contaminated or biased due to proximity to an image artifact. The type of artifact that may contaminate the measurements is denoted by the following codes. Lower-case letters correspond to instances in which the source detection in a band is believed to be real but the measurement may be contaminated by the artifact. Upper-case letters are instances in which the source detection in a band may be a spurious detection of an artifact. - D,d - Diffraction spike. Source may be a spurious detection of (D) or contaminated by (d) a diffraction spike from a nearby bright star on the same image, or - P,p - Persistence. Source may be a spurious detection of (P) or contaminated by (p) a short-term latent image left by a bright source, or - H,h - Halo. Source may be a spurious detection of (H) or contaminated by (h) the scattered light halo surrounding a nearby bright source, or - O,o (letter “o”) - Optical ghost. Source may be a spurious detection of (O) or contaminated by (o) an optical ghost image caused by a nearby bright source, or - 0 (number zero) - Source is unaffected by known artifacts. A source extraction may be affected by more than one type of artifact or condition. In this event, the ccFlags value in each band is set in the following priority order: D,P,H,O,d,p,h,o,0. A source can appear in the AllWISE Source Catalog even if it is flagged as a spurious artifact detection in a band if there is a reliable detection in another band that is not flagged as a spurious artifact detection. CAUTION: Non-zero ccFlags values in any band indicate the the measurement in that band may be contaminated and the photometry should be used with caution.'\n",
    "    elif key == 'var_flag': xmatch_allwise_results[key].description = 'AllWISE Variability flag. The variability flag is a four-character string, one character per band, in which the value for each band is related to the probability that the source flux measured on the individual WISE exposures was not constant with time. The probability is computed for a band only when there are at least six single-exposure measurements available that satisfy minimum quality criteria. A value of “n” in a band indicates insufficient or inadequate data to make a determination of possible variability. Values of “0” through “9” indicate increasing probabilities of variation. Values of “0” through “5” are most likely not variables. Sources with values of “6” and “7” are likely flux variables, but are the most susceptible to false-positive variability. VarFlag values greater than “7” have the highest probability of being true flux variables in a band. CAUTION: Estimation of flux variability is unreliable for sources that are extended (extFlag>0), and sources whose measurements are contaminated by image artifacts in a band (ccFlags[band] != 0).'\n",
    "    elif key == 'ph_qual_allwise': xmatch_allwise_results[key].description = 'AllWISE Photometric quality flag. Four character flag, one character per band [W1/W2/W3/W4], that provides a shorthand summary of the quality of the profile-fit photometry measurement in each band, as derived from the measurement signal-to-noise ratio. - A - Source is detected in this band with a flux signal-to-noise ratio >10. - B - Source is detected in this band with a flux signal-to-noise ratio 3'\n",
    "    else:\n",
    "        xmatch_allwise_results[key].description = 'AllWISE '+xmatch_allwise_results[key].description"
   ]
  },
  {
   "cell_type": "code",
   "execution_count": 22,
   "id": "72d01fe9",
   "metadata": {},
   "outputs": [
    {
     "name": "stderr",
     "output_type": "stream",
     "text": [
      "WARNING: MergeConflictWarning: In merged column 'hip_int' the 'description' attribute does not match (HIP Hipparcos identifier != 2MASS Expression: parseInt(substring(hip,3))).  Using 2MASS Expression: parseInt(substring(hip,3)) for merged output [astropy.utils.metadata]\n",
      "WARNING: MergeConflictWarning: In merged column 'hip_int' the 'description' attribute does not match (2MASS Expression: parseInt(substring(hip,3)) != GaiaDR3 Expression: parseInt(substring(hip,3))).  Using GaiaDR3 Expression: parseInt(substring(hip,3)) for merged output [astropy.utils.metadata]\n",
      "WARNING: MergeConflictWarning: In merged column 'hip_int' the 'description' attribute does not match (GaiaDR3 Expression: parseInt(substring(hip,3)) != AllWISE Expression: parseInt(substring(hip,3))).  Using AllWISE Expression: parseInt(substring(hip,3)) for merged output [astropy.utils.metadata]\n"
     ]
    }
   ],
   "source": [
    "# join init + hipparcos\n",
    "init_hip = join(initial_table, xmatch_hipparcos_results, keys='hip_int',join_type='left')\n",
    "# further join with tmass\n",
    "init_hip_tmass = join(init_hip, xmatch_tmass_results, keys='hip_int',join_type='left')\n",
    "# further join with gaia\n",
    "init_hip_tmass_gaia = join(init_hip_tmass, xmatch_gaia_results, keys='hip_int',join_type='left')\n",
    "# further join with allwise\n",
    "init_hip_tmass_gaia_allwise = join(init_hip_tmass_gaia, xmatch_allwise_results, keys='hip_int',join_type='left')\n",
    "init_hip_tmass_gaia_allwise.rename_column('hip_1','hip')\n",
    "init_hip_tmass_gaia_allwise.rename_column('tmass_id_1','tmass_id')\n",
    "init_hip_tmass_gaia_allwise.remove_columns(['hip_2','tmass_id_2','source_id_2'])"
   ]
  },
  {
   "cell_type": "code",
   "execution_count": 23,
   "id": "a21535d5",
   "metadata": {},
   "outputs": [],
   "source": [
    "# description = str(init_hip_tmass_gaia_allwise[key].description)\n",
    "# description = description.replace('±','-+')\n",
    "# description = description.replace('∼U','U.T')\n",
    "\n",
    "# text = description[:800]\n",
    "# print(text)\n",
    "# (text).encode('ascii')"
   ]
  },
  {
   "cell_type": "code",
   "execution_count": 26,
   "id": "cd525d03",
   "metadata": {
    "scrolled": false
   },
   "outputs": [],
   "source": [
    "init_hip_tmass_gaia_allwise.write('gbs_v3_tmass_gaiadr3_hip_allwise_all_columns.fits',overwrite=True)\n",
    "data,header = fits.getdata('gbs_v3_tmass_gaiadr3_hip_allwise_all_columns.fits', header=True)\n",
    "for each_index, key in enumerate(init_hip_tmass_gaia_allwise.keys()):\n",
    "    description = str(init_hip_tmass_gaia_allwise[key].description).replace('\\n', ' ')\n",
    "    description = description.replace('±','-+')\n",
    "    description = description.replace('∼U','U.T')\n",
    "    description = description.replace('“','\"')\n",
    "    description = description.replace('”','\"')\n",
    "    try:\n",
    "        header['TCOMM'+str(each_index+1)] = description\n",
    "    except:\n",
    "        print(key, description)\n",
    "    \n",
    "    if key == 'hip':\n",
    "        header['TCOMM'+str(each_index+1)] = 'Hipparcos identifier as string, including HIP'\n",
    "    if key == 'hip_int':\n",
    "        header['TCOMM'+str(each_index+1)] = 'Hipparcos identifier as integer, excluding HIP'\n",
    "    if key == 'hd':\n",
    "        header['TCOMM'+str(each_index+1)] = 'Henry Draper catalog identifier'\n",
    "    if key == 'ra_j2000':\n",
    "        header['TCOMM'+str(each_index+1)] = '2MASS Right Ascension, J2000.0'\n",
    "    if key == 'dec_j2000':\n",
    "        header['TCOMM'+str(each_index+1)] = '2MASS Declination, J2000.0'\n",
    "    if key == 'theta_ld':\n",
    "        header['TCOMM'+str(each_index+1)] = 'Limb-darkened angular diameter'\n",
    "    if key == 'e_theta_ld':\n",
    "        header['TCOMM'+str(each_index+1)] = 'Uncertainty of limb-darkened angular diameter'\n",
    "    if key == 'ref_theta_ld_':\n",
    "        header['TCOMM'+str(each_index+1)] = 'ADS reference of limb-darkened angular diameter'\n",
    "    if key == 'teff':\n",
    "        header['TCOMM'+str(each_index+1)] = 'Effective Temperature from Soubiran et al. (2023)'\n",
    "    if key == 'e_teff':\n",
    "        header['TCOMM'+str(each_index+1)] = 'Uncertainty of effective Temperature'\n",
    "    if key == 'e_teff_percent':\n",
    "        header['TCOMM'+str(each_index+1)] = 'Relative uncertainty of effective Temperature in percent'\n",
    "    if key == 'logg':\n",
    "        header['TCOMM'+str(each_index+1)] = 'Logarithmic surface gravity from Soubiran et al. (2023)'\n",
    "    if key == 'e_logg':\n",
    "        header['TCOMM'+str(each_index+1)] = 'Uncertainty of logarithmic surface gravity'\n",
    "    if key == 'fe_h':\n",
    "        header['TCOMM'+str(each_index+1)] = 'Logarithmic iron abundance from Soubiran et al. (2023)'\n",
    "        \n",
    "    if key in ['fe_h','rv_template_fe_h','mh_gspphot','mh_gspphot_lower','mh_gspphot_upper']:\n",
    "        header['TUNIT'+str(each_index+1)] = 'dex'\n",
    "    if key in ['ra_j2000','dec_j2000']:\n",
    "        header['TUNIT'+str(each_index+1)] = 'deg'\n",
    "    if key in ['theta_ld','e_theta_ld']:\n",
    "        header['TUNIT'+str(each_index+1)] = 'mas'\n",
    "    if key in ['teff','e_teff']:\n",
    "        header['TUNIT'+str(each_index+1)] = 'K'\n",
    "    if key in ['logg','e_logg']:\n",
    "        header['TUNIT'+str(each_index+1)] = 'log(cm.s**-2)'\n",
    "    if key in ['phot_g_mean_flux','phot_g_mean_flux_error','phot_bp_mean_flux','phot_bp_mean_flux_error','phot_rp_mean_flux','phot_rp_mean_flux_error']:\n",
    "        header['TUNIT'+str(each_index+1)] = 'electron.s**-1'"
   ]
  },
  {
   "cell_type": "code",
   "execution_count": 27,
   "id": "ae8a5f26",
   "metadata": {},
   "outputs": [],
   "source": [
    "fits_table = fits.BinTableHDU.from_columns(columns=data,header=header)\n",
    "fits_table.writeto('gbs_v3_tmass_gaiadr3_hip_allwise_all_columns.fits',overwrite=True)"
   ]
  }
 ],
 "metadata": {
  "kernelspec": {
   "display_name": "Python 3 (ipykernel)",
   "language": "python",
   "name": "python3"
  },
  "language_info": {
   "codemirror_mode": {
    "name": "ipython",
    "version": 3
   },
   "file_extension": ".py",
   "mimetype": "text/x-python",
   "name": "python",
   "nbconvert_exporter": "python",
   "pygments_lexer": "ipython3",
   "version": "3.9.12"
  }
 },
 "nbformat": 4,
 "nbformat_minor": 5
}
